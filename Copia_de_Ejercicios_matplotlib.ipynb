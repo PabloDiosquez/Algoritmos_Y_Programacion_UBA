{
  "nbformat": 4,
  "nbformat_minor": 0,
  "metadata": {
    "colab": {
      "provenance": [],
      "include_colab_link": true
    },
    "kernelspec": {
      "name": "python3",
      "display_name": "Python 3"
    },
    "language_info": {
      "name": "python"
    }
  },
  "cells": [
    {
      "cell_type": "markdown",
      "metadata": {
        "id": "view-in-github",
        "colab_type": "text"
      },
      "source": [
        "<a href=\"https://colab.research.google.com/github/PabloDiosquez/Algoritmos_Y_Programacion_UBA/blob/main/Copia_de_Ejercicios_matplotlib.ipynb\" target=\"_parent\"><img src=\"https://colab.research.google.com/assets/colab-badge.svg\" alt=\"Open In Colab\"/></a>"
      ]
    },
    {
      "cell_type": "markdown",
      "source": [
        "# Práctica Matplotlib"
      ],
      "metadata": {
        "id": "KOqc0zSs-6C8"
      }
    },
    {
      "cell_type": "markdown",
      "source": [
        "En el presente archivo se pondrán en práctica los conocimiento para visualizar datos de manera correcta. Por ese motivo, se verán líneas de código completas y otras para completar en función de lo que el estudiante desea analizar. Es decir, las figuras se dejan a modo de ejemplo y de referencia para resolver los ejercicios, pero no tienen que ser exactamente igual a la de los alumnos."
      ],
      "metadata": {
        "id": "e7YI3mFW-_hn"
      }
    },
    {
      "cell_type": "markdown",
      "source": [
        "Primero, se importan las librerías que se usarán:"
      ],
      "metadata": {
        "id": "JyXuKI8SAP8j"
      }
    },
    {
      "cell_type": "code",
      "execution_count": null,
      "metadata": {
        "id": "SfV8of8i9nRy"
      },
      "outputs": [],
      "source": [
        "import matplotlib.pyplot as plt\n",
        "import numpy as np\n",
        "import pandas as pd"
      ]
    },
    {
      "cell_type": "markdown",
      "source": [
        "## Ejercicio de tipo de gráficos\n",
        "\n",
        "Para realizar este ejercicio, debemos importar la información del PBI per cápita de los distintos países, a lo largo de un período que abarca desde 1952 y 2007."
      ],
      "metadata": {
        "id": "LxmnedlYp6n0"
      }
    },
    {
      "cell_type": "code",
      "source": [
        "# Importo la información\n",
        "url = \"https://raw.githubusercontent.com/plotly/datasets/master/gapminder_with_codes.csv\"\n",
        "data = pd.read_csv(url)\n",
        "\n",
        "# Modificar el tipo de dato:\n",
        "data['year'] = data['year'].astype(\"int\")\n",
        "\n",
        "data.head()"
      ],
      "metadata": {
        "colab": {
          "base_uri": "https://localhost:8080/",
          "height": 206
        },
        "id": "snrGcx2lbHQm",
        "outputId": "3c4290ca-03bc-4279-e1bb-1f57f2c0152e"
      },
      "execution_count": null,
      "outputs": [
        {
          "output_type": "execute_result",
          "data": {
            "text/plain": [
              "       country continent  year  lifeExp       pop   gdpPercap iso_alpha  \\\n",
              "0  Afghanistan      Asia  1952   28.801   8425333  779.445314       AFG   \n",
              "1  Afghanistan      Asia  1957   30.332   9240934  820.853030       AFG   \n",
              "2  Afghanistan      Asia  1962   31.997  10267083  853.100710       AFG   \n",
              "3  Afghanistan      Asia  1967   34.020  11537966  836.197138       AFG   \n",
              "4  Afghanistan      Asia  1972   36.088  13079460  739.981106       AFG   \n",
              "\n",
              "   iso_num  \n",
              "0        4  \n",
              "1        4  \n",
              "2        4  \n",
              "3        4  \n",
              "4        4  "
            ],
            "text/html": [
              "\n",
              "  <div id=\"df-ab438639-0e9b-47e6-a5d9-fc78022553b6\" class=\"colab-df-container\">\n",
              "    <div>\n",
              "<style scoped>\n",
              "    .dataframe tbody tr th:only-of-type {\n",
              "        vertical-align: middle;\n",
              "    }\n",
              "\n",
              "    .dataframe tbody tr th {\n",
              "        vertical-align: top;\n",
              "    }\n",
              "\n",
              "    .dataframe thead th {\n",
              "        text-align: right;\n",
              "    }\n",
              "</style>\n",
              "<table border=\"1\" class=\"dataframe\">\n",
              "  <thead>\n",
              "    <tr style=\"text-align: right;\">\n",
              "      <th></th>\n",
              "      <th>country</th>\n",
              "      <th>continent</th>\n",
              "      <th>year</th>\n",
              "      <th>lifeExp</th>\n",
              "      <th>pop</th>\n",
              "      <th>gdpPercap</th>\n",
              "      <th>iso_alpha</th>\n",
              "      <th>iso_num</th>\n",
              "    </tr>\n",
              "  </thead>\n",
              "  <tbody>\n",
              "    <tr>\n",
              "      <th>0</th>\n",
              "      <td>Afghanistan</td>\n",
              "      <td>Asia</td>\n",
              "      <td>1952</td>\n",
              "      <td>28.801</td>\n",
              "      <td>8425333</td>\n",
              "      <td>779.445314</td>\n",
              "      <td>AFG</td>\n",
              "      <td>4</td>\n",
              "    </tr>\n",
              "    <tr>\n",
              "      <th>1</th>\n",
              "      <td>Afghanistan</td>\n",
              "      <td>Asia</td>\n",
              "      <td>1957</td>\n",
              "      <td>30.332</td>\n",
              "      <td>9240934</td>\n",
              "      <td>820.853030</td>\n",
              "      <td>AFG</td>\n",
              "      <td>4</td>\n",
              "    </tr>\n",
              "    <tr>\n",
              "      <th>2</th>\n",
              "      <td>Afghanistan</td>\n",
              "      <td>Asia</td>\n",
              "      <td>1962</td>\n",
              "      <td>31.997</td>\n",
              "      <td>10267083</td>\n",
              "      <td>853.100710</td>\n",
              "      <td>AFG</td>\n",
              "      <td>4</td>\n",
              "    </tr>\n",
              "    <tr>\n",
              "      <th>3</th>\n",
              "      <td>Afghanistan</td>\n",
              "      <td>Asia</td>\n",
              "      <td>1967</td>\n",
              "      <td>34.020</td>\n",
              "      <td>11537966</td>\n",
              "      <td>836.197138</td>\n",
              "      <td>AFG</td>\n",
              "      <td>4</td>\n",
              "    </tr>\n",
              "    <tr>\n",
              "      <th>4</th>\n",
              "      <td>Afghanistan</td>\n",
              "      <td>Asia</td>\n",
              "      <td>1972</td>\n",
              "      <td>36.088</td>\n",
              "      <td>13079460</td>\n",
              "      <td>739.981106</td>\n",
              "      <td>AFG</td>\n",
              "      <td>4</td>\n",
              "    </tr>\n",
              "  </tbody>\n",
              "</table>\n",
              "</div>\n",
              "    <div class=\"colab-df-buttons\">\n",
              "\n",
              "  <div class=\"colab-df-container\">\n",
              "    <button class=\"colab-df-convert\" onclick=\"convertToInteractive('df-ab438639-0e9b-47e6-a5d9-fc78022553b6')\"\n",
              "            title=\"Convert this dataframe to an interactive table.\"\n",
              "            style=\"display:none;\">\n",
              "\n",
              "  <svg xmlns=\"http://www.w3.org/2000/svg\" height=\"24px\" viewBox=\"0 -960 960 960\">\n",
              "    <path d=\"M120-120v-720h720v720H120Zm60-500h600v-160H180v160Zm220 220h160v-160H400v160Zm0 220h160v-160H400v160ZM180-400h160v-160H180v160Zm440 0h160v-160H620v160ZM180-180h160v-160H180v160Zm440 0h160v-160H620v160Z\"/>\n",
              "  </svg>\n",
              "    </button>\n",
              "\n",
              "  <style>\n",
              "    .colab-df-container {\n",
              "      display:flex;\n",
              "      gap: 12px;\n",
              "    }\n",
              "\n",
              "    .colab-df-convert {\n",
              "      background-color: #E8F0FE;\n",
              "      border: none;\n",
              "      border-radius: 50%;\n",
              "      cursor: pointer;\n",
              "      display: none;\n",
              "      fill: #1967D2;\n",
              "      height: 32px;\n",
              "      padding: 0 0 0 0;\n",
              "      width: 32px;\n",
              "    }\n",
              "\n",
              "    .colab-df-convert:hover {\n",
              "      background-color: #E2EBFA;\n",
              "      box-shadow: 0px 1px 2px rgba(60, 64, 67, 0.3), 0px 1px 3px 1px rgba(60, 64, 67, 0.15);\n",
              "      fill: #174EA6;\n",
              "    }\n",
              "\n",
              "    .colab-df-buttons div {\n",
              "      margin-bottom: 4px;\n",
              "    }\n",
              "\n",
              "    [theme=dark] .colab-df-convert {\n",
              "      background-color: #3B4455;\n",
              "      fill: #D2E3FC;\n",
              "    }\n",
              "\n",
              "    [theme=dark] .colab-df-convert:hover {\n",
              "      background-color: #434B5C;\n",
              "      box-shadow: 0px 1px 3px 1px rgba(0, 0, 0, 0.15);\n",
              "      filter: drop-shadow(0px 1px 2px rgba(0, 0, 0, 0.3));\n",
              "      fill: #FFFFFF;\n",
              "    }\n",
              "  </style>\n",
              "\n",
              "    <script>\n",
              "      const buttonEl =\n",
              "        document.querySelector('#df-ab438639-0e9b-47e6-a5d9-fc78022553b6 button.colab-df-convert');\n",
              "      buttonEl.style.display =\n",
              "        google.colab.kernel.accessAllowed ? 'block' : 'none';\n",
              "\n",
              "      async function convertToInteractive(key) {\n",
              "        const element = document.querySelector('#df-ab438639-0e9b-47e6-a5d9-fc78022553b6');\n",
              "        const dataTable =\n",
              "          await google.colab.kernel.invokeFunction('convertToInteractive',\n",
              "                                                    [key], {});\n",
              "        if (!dataTable) return;\n",
              "\n",
              "        const docLinkHtml = 'Like what you see? Visit the ' +\n",
              "          '<a target=\"_blank\" href=https://colab.research.google.com/notebooks/data_table.ipynb>data table notebook</a>'\n",
              "          + ' to learn more about interactive tables.';\n",
              "        element.innerHTML = '';\n",
              "        dataTable['output_type'] = 'display_data';\n",
              "        await google.colab.output.renderOutput(dataTable, element);\n",
              "        const docLink = document.createElement('div');\n",
              "        docLink.innerHTML = docLinkHtml;\n",
              "        element.appendChild(docLink);\n",
              "      }\n",
              "    </script>\n",
              "  </div>\n",
              "\n",
              "\n",
              "<div id=\"df-8b3a2701-a476-42cb-9940-cdc118a3478d\">\n",
              "  <button class=\"colab-df-quickchart\" onclick=\"quickchart('df-8b3a2701-a476-42cb-9940-cdc118a3478d')\"\n",
              "            title=\"Suggest charts.\"\n",
              "            style=\"display:none;\">\n",
              "\n",
              "<svg xmlns=\"http://www.w3.org/2000/svg\" height=\"24px\"viewBox=\"0 0 24 24\"\n",
              "     width=\"24px\">\n",
              "    <g>\n",
              "        <path d=\"M19 3H5c-1.1 0-2 .9-2 2v14c0 1.1.9 2 2 2h14c1.1 0 2-.9 2-2V5c0-1.1-.9-2-2-2zM9 17H7v-7h2v7zm4 0h-2V7h2v10zm4 0h-2v-4h2v4z\"/>\n",
              "    </g>\n",
              "</svg>\n",
              "  </button>\n",
              "\n",
              "<style>\n",
              "  .colab-df-quickchart {\n",
              "      --bg-color: #E8F0FE;\n",
              "      --fill-color: #1967D2;\n",
              "      --hover-bg-color: #E2EBFA;\n",
              "      --hover-fill-color: #174EA6;\n",
              "      --disabled-fill-color: #AAA;\n",
              "      --disabled-bg-color: #DDD;\n",
              "  }\n",
              "\n",
              "  [theme=dark] .colab-df-quickchart {\n",
              "      --bg-color: #3B4455;\n",
              "      --fill-color: #D2E3FC;\n",
              "      --hover-bg-color: #434B5C;\n",
              "      --hover-fill-color: #FFFFFF;\n",
              "      --disabled-bg-color: #3B4455;\n",
              "      --disabled-fill-color: #666;\n",
              "  }\n",
              "\n",
              "  .colab-df-quickchart {\n",
              "    background-color: var(--bg-color);\n",
              "    border: none;\n",
              "    border-radius: 50%;\n",
              "    cursor: pointer;\n",
              "    display: none;\n",
              "    fill: var(--fill-color);\n",
              "    height: 32px;\n",
              "    padding: 0;\n",
              "    width: 32px;\n",
              "  }\n",
              "\n",
              "  .colab-df-quickchart:hover {\n",
              "    background-color: var(--hover-bg-color);\n",
              "    box-shadow: 0 1px 2px rgba(60, 64, 67, 0.3), 0 1px 3px 1px rgba(60, 64, 67, 0.15);\n",
              "    fill: var(--button-hover-fill-color);\n",
              "  }\n",
              "\n",
              "  .colab-df-quickchart-complete:disabled,\n",
              "  .colab-df-quickchart-complete:disabled:hover {\n",
              "    background-color: var(--disabled-bg-color);\n",
              "    fill: var(--disabled-fill-color);\n",
              "    box-shadow: none;\n",
              "  }\n",
              "\n",
              "  .colab-df-spinner {\n",
              "    border: 2px solid var(--fill-color);\n",
              "    border-color: transparent;\n",
              "    border-bottom-color: var(--fill-color);\n",
              "    animation:\n",
              "      spin 1s steps(1) infinite;\n",
              "  }\n",
              "\n",
              "  @keyframes spin {\n",
              "    0% {\n",
              "      border-color: transparent;\n",
              "      border-bottom-color: var(--fill-color);\n",
              "      border-left-color: var(--fill-color);\n",
              "    }\n",
              "    20% {\n",
              "      border-color: transparent;\n",
              "      border-left-color: var(--fill-color);\n",
              "      border-top-color: var(--fill-color);\n",
              "    }\n",
              "    30% {\n",
              "      border-color: transparent;\n",
              "      border-left-color: var(--fill-color);\n",
              "      border-top-color: var(--fill-color);\n",
              "      border-right-color: var(--fill-color);\n",
              "    }\n",
              "    40% {\n",
              "      border-color: transparent;\n",
              "      border-right-color: var(--fill-color);\n",
              "      border-top-color: var(--fill-color);\n",
              "    }\n",
              "    60% {\n",
              "      border-color: transparent;\n",
              "      border-right-color: var(--fill-color);\n",
              "    }\n",
              "    80% {\n",
              "      border-color: transparent;\n",
              "      border-right-color: var(--fill-color);\n",
              "      border-bottom-color: var(--fill-color);\n",
              "    }\n",
              "    90% {\n",
              "      border-color: transparent;\n",
              "      border-bottom-color: var(--fill-color);\n",
              "    }\n",
              "  }\n",
              "</style>\n",
              "\n",
              "  <script>\n",
              "    async function quickchart(key) {\n",
              "      const quickchartButtonEl =\n",
              "        document.querySelector('#' + key + ' button');\n",
              "      quickchartButtonEl.disabled = true;  // To prevent multiple clicks.\n",
              "      quickchartButtonEl.classList.add('colab-df-spinner');\n",
              "      try {\n",
              "        const charts = await google.colab.kernel.invokeFunction(\n",
              "            'suggestCharts', [key], {});\n",
              "      } catch (error) {\n",
              "        console.error('Error during call to suggestCharts:', error);\n",
              "      }\n",
              "      quickchartButtonEl.classList.remove('colab-df-spinner');\n",
              "      quickchartButtonEl.classList.add('colab-df-quickchart-complete');\n",
              "    }\n",
              "    (() => {\n",
              "      let quickchartButtonEl =\n",
              "        document.querySelector('#df-8b3a2701-a476-42cb-9940-cdc118a3478d button');\n",
              "      quickchartButtonEl.style.display =\n",
              "        google.colab.kernel.accessAllowed ? 'block' : 'none';\n",
              "    })();\n",
              "  </script>\n",
              "</div>\n",
              "    </div>\n",
              "  </div>\n"
            ]
          },
          "metadata": {},
          "execution_count": 2
        }
      ]
    },
    {
      "cell_type": "code",
      "source": [
        "data.info()"
      ],
      "metadata": {
        "colab": {
          "base_uri": "https://localhost:8080/"
        },
        "id": "qKgxNMeme8gq",
        "outputId": "b5c37294-35e4-459d-8ffc-c82e7fe2f52d"
      },
      "execution_count": null,
      "outputs": [
        {
          "output_type": "stream",
          "name": "stdout",
          "text": [
            "<class 'pandas.core.frame.DataFrame'>\n",
            "RangeIndex: 1704 entries, 0 to 1703\n",
            "Data columns (total 8 columns):\n",
            " #   Column     Non-Null Count  Dtype  \n",
            "---  ------     --------------  -----  \n",
            " 0   country    1704 non-null   object \n",
            " 1   continent  1704 non-null   object \n",
            " 2   year       1704 non-null   int64  \n",
            " 3   lifeExp    1704 non-null   float64\n",
            " 4   pop        1704 non-null   int64  \n",
            " 5   gdpPercap  1704 non-null   float64\n",
            " 6   iso_alpha  1704 non-null   object \n",
            " 7   iso_num    1704 non-null   int64  \n",
            "dtypes: float64(2), int64(3), object(3)\n",
            "memory usage: 106.6+ KB\n"
          ]
        }
      ]
    },
    {
      "cell_type": "markdown",
      "source": [
        "**Ejercicio 1:**\n",
        "\n",
        "Elije un año en el que desees ver la relación entre la expectativa de vida de los habitantes (columna `lifeExp`) y el PBI per cápita de los habitantes (columna gdpPercap)"
      ],
      "metadata": {
        "id": "jyJeZr-RqWft"
      }
    },
    {
      "cell_type": "code",
      "source": [
        "# Modifica este valor\n",
        "# =========== Código de alumno ===============\n",
        "year =\n",
        "# ============================================\n",
        "\n",
        "data_year = data[data[\"year\"] == year]\n",
        "data_year.head()"
      ],
      "metadata": {
        "colab": {
          "base_uri": "https://localhost:8080/",
          "height": 146
        },
        "id": "QCxhWQJAdbEV",
        "outputId": "e2cf084a-fab4-4808-d2fd-1802b3da49d3"
      },
      "execution_count": null,
      "outputs": [
        {
          "output_type": "error",
          "ename": "SyntaxError",
          "evalue": "ignored",
          "traceback": [
            "\u001b[0;36m  File \u001b[0;32m\"<ipython-input-4-b8ea18ea0b0d>\"\u001b[0;36m, line \u001b[0;32m3\u001b[0m\n\u001b[0;31m    year =\u001b[0m\n\u001b[0m          ^\u001b[0m\n\u001b[0;31mSyntaxError\u001b[0m\u001b[0;31m:\u001b[0m invalid syntax\n"
          ]
        }
      ]
    },
    {
      "cell_type": "markdown",
      "source": [
        "Realiza un gráfico de puntos que muestre la relación entre la expectativa de vida (columna `lifeExp`) y el PBI per cápita de los habitantes (columna gdpPercap).\n",
        "\n",
        "El gráfico debe tener:\n",
        "- Título apropiado\n",
        "- Nombre y unidades de los ejes cartesianos\n",
        "- Marcador de tipo triangular y color \"#23A763\"\n",
        "- Grilla"
      ],
      "metadata": {
        "id": "3K9gYCcAsxDP"
      }
    },
    {
      "cell_type": "code",
      "source": [
        "fig, ax = plt.subplots()\n",
        "\n",
        "# =========== Código de alumno ===============\n",
        "\n",
        "\n",
        "# ============================================\n",
        "\n",
        "plt.show()"
      ],
      "metadata": {
        "id": "6cUXt2uXbHam"
      },
      "execution_count": null,
      "outputs": []
    },
    {
      "cell_type": "markdown",
      "source": [
        "**Ejercicio 2:**\n",
        "\n",
        "Creamos un nuevo DataFrame con la información de la Argentina únicamente"
      ],
      "metadata": {
        "id": "RLzYy7QQup6D"
      }
    },
    {
      "cell_type": "code",
      "source": [
        "data_arg = data[data[\"country\"] == \"Argentina\"]\n",
        "data_arg.head()"
      ],
      "metadata": {
        "id": "xpJpp4H3dmlN"
      },
      "execution_count": null,
      "outputs": []
    },
    {
      "cell_type": "markdown",
      "source": [
        "Realiza un gráfico de línea que muestre el PBI per cápita de los habitantes de Argentina (columna gdpPercap) a lo largo del tiempo:\n",
        "\n",
        "El gráfico debe tener:\n",
        "- Título apropiado\n",
        "- Nombre y unidades de los ejes cartesianos\n",
        "- Linea sólida, espesor 2.2 y color \"#30BFDE\"\n",
        "- Grilla"
      ],
      "metadata": {
        "id": "Mn1svnVavbcV"
      }
    },
    {
      "cell_type": "code",
      "source": [
        "fig, ax = plt.subplots()\n",
        "\n",
        "# =========== Código de alumno ===============\n",
        "\n",
        "\n",
        "# ============================================\n",
        "plt.show()"
      ],
      "metadata": {
        "id": "7BNOLGtRg2w1"
      },
      "execution_count": null,
      "outputs": []
    },
    {
      "cell_type": "markdown",
      "source": [
        "**Ejercicio 3:**\n",
        "\n",
        "A continuación verá todos los países de los que poseemos información. Elije uno que no sea nuestro país y luego, crea un nuevo DataFrame."
      ],
      "metadata": {
        "id": "cBtoKakEwbdA"
      }
    },
    {
      "cell_type": "code",
      "source": [
        "data[\"country\"].unique()"
      ],
      "metadata": {
        "id": "Vtu9h6gEiUAn"
      },
      "execution_count": null,
      "outputs": []
    },
    {
      "cell_type": "code",
      "source": [
        "# =========== Código de alumno ===============\n",
        "country =\n",
        "# ============================================\n",
        "\n",
        "data_country = data[data[\"country\"] == country]\n",
        "data_country.head()"
      ],
      "metadata": {
        "id": "wX22IlAFd8XY"
      },
      "execution_count": null,
      "outputs": []
    },
    {
      "cell_type": "markdown",
      "source": [
        "Realiza un gráfico de línea que muestre el PBI per cápita de los habitantes de Argentina (columna gdpPercap) a lo largo del tiempo y del país escogido anteriormente:\n",
        "\n",
        "El gráfico debe tener:\n",
        "- Título apropiado\n",
        "- Nombre y unidades de los ejes cartesianos\n",
        "- Linea sólida, espesor 2.2 y color \"#30BFDE\" para la curva de nuestro país.\n",
        "- Linea sólida, espesor 2.2 y color \"#1E92E3\" para la curva del nuevo país.\n",
        "- Referencias\n",
        "- Grilla"
      ],
      "metadata": {
        "id": "LoaKZUGyxB5y"
      }
    },
    {
      "cell_type": "code",
      "source": [
        "fig, ax = plt.subplots()\n",
        "\n",
        "# =========== Código de alumno ===============\n",
        "\n",
        "\n",
        "# ============================================\n",
        "\n",
        "plt.show()"
      ],
      "metadata": {
        "id": "hbqAsbbeeU_4"
      },
      "execution_count": null,
      "outputs": []
    },
    {
      "cell_type": "markdown",
      "source": [
        "**Ejercicio 4:**\n",
        "\n",
        "A continuación vamos a agrupar PBI per capita por continente."
      ],
      "metadata": {
        "id": "XRIWbiA_yIMU"
      }
    },
    {
      "cell_type": "code",
      "source": [
        "data_continent = data[['continent', 'gdpPercap']]\n",
        "data_continent = data_continent.groupby(['continent']).agg('sum')\n",
        "data_continent"
      ],
      "metadata": {
        "id": "cStXRpevivFE"
      },
      "execution_count": null,
      "outputs": []
    },
    {
      "cell_type": "markdown",
      "source": [
        "Realiza un gráfico de torta la proporción del PBI per cápita de los habitantes de cada continente (columna gdpPercap).\n",
        "\n",
        "El gráfico debe tener:\n",
        "- Título apropiado\n",
        "- Cada parte con el nombre del continente y el porcentaje redondeado a las décimas.\n",
        "- El color de cada parte será:\n",
        "  - América: \"#30BFDE\"\n",
        "  - Asia: \"#E31E4B\"\n",
        "  - África: \"#E36F1E\"\n",
        "  - Oceanía: \"#1EE39B\"\n",
        "  - Europa: \"#1E92E3\""
      ],
      "metadata": {
        "id": "ZgBBfBmayeiu"
      }
    },
    {
      "cell_type": "code",
      "source": [
        "fig, ax = plt.subplots()\n",
        "\n",
        "# =========== Código de alumno ===============\n",
        "\n",
        "\n",
        "# ============================================\n",
        "plt.show()"
      ],
      "metadata": {
        "id": "VDIa_IwfivIR"
      },
      "execution_count": null,
      "outputs": []
    },
    {
      "cell_type": "markdown",
      "source": [
        "**Ejercicio 5:**\n",
        "\n",
        "Elije un continente el cual te gustaría analizar con más detalle:"
      ],
      "metadata": {
        "id": "LxFS4lhf1LUF"
      }
    },
    {
      "cell_type": "code",
      "source": [
        "# =========== Código de alumno ===============\n",
        "continent =\n",
        "# ============================================\n",
        "\n",
        "data_one_continent = data[data[\"continent\"] == continent]\n",
        "data_one_continent = data_one_continent[['country', 'gdpPercap']]\n",
        "data_one_continent = data_one_continent.groupby(['country']).agg('sum')\n",
        "data_one_continent = data_one_continent.sort_values(by=['gdpPercap'])\n",
        "data_one_continent[['gdpPercap']]"
      ],
      "metadata": {
        "id": "trYP_eFOivRD"
      },
      "execution_count": null,
      "outputs": []
    },
    {
      "cell_type": "markdown",
      "source": [
        "Realiza un gráfico de barras horizontales que muestre el PBI per cápita de los habitantes del continente escogido (columna gdpPercap).\n",
        "\n",
        "El gráfico debe tener:\n",
        "- Título apropiado\n",
        "- Nombre y unidades de los ejes cartesianos en caso de ser necesario\n",
        "- Nombre de los paises al lado de cada barra\n",
        "- Grilla con líneas verticales únicamente, color \"#CDD7DA\" y línea discontinua."
      ],
      "metadata": {
        "id": "GaPTWlV2BhNK"
      }
    },
    {
      "cell_type": "code",
      "source": [
        "fig, ax = plt.subplots()\n",
        "# =========== Código de alumno ===============\n",
        "\n",
        "\n",
        "# ============================================\n",
        "plt.show()"
      ],
      "metadata": {
        "id": "fVGJVXKjotP0"
      },
      "execution_count": null,
      "outputs": []
    },
    {
      "cell_type": "markdown",
      "source": [
        "## Ejercicio de grillas:\n",
        "\n",
        "Para este ejercicio, vamos a crear valores aleatorios, que serán contenidos en un DataFrame que llamaremos `df`:"
      ],
      "metadata": {
        "id": "sj36z_Yvp2XL"
      }
    },
    {
      "cell_type": "code",
      "source": [
        "np.random.seed(0)\n",
        "df = pd.DataFrame(data={'a':np.random.randint(0, 100, 50),\n",
        "                        'b':np.random.randint(0, 100, 50),\n",
        "                        'c':np.random.randint(0, 100, 50),\n",
        "                        'd':np.random.randint(0, 100, 50)})\n",
        "df.head()"
      ],
      "metadata": {
        "id": "7zwvjthFbHdZ"
      },
      "execution_count": null,
      "outputs": []
    },
    {
      "cell_type": "markdown",
      "source": [
        "**Ejercicio 1:**\n",
        "\n",
        "Vamos a crear una grilla de 4 gráficos de línea, en la que los ejes x va a contener los valores del índice `df.index.values`, mientras que los ejes y, los valores de las columnas a, b, c y d.  \n",
        "\n",
        "La figura debe tener:\n",
        "- 2 filas y 2 columas\n",
        "- Tamaño de figura de una altura de 8 y un ancho de 15.\n",
        "- Nombre de los ejes y referencia en cada gráfico\n",
        "- Grilla\n",
        "- La siguiente posición de gráficos:\n",
        "  - Los valores A en la parte superior izquierda, color `green`\n",
        "  - Los valores B en la parte superior derecha, color `red`\n",
        "  - Los valores C en la parte inferior izquierda, color `magenta`\n",
        "  - Los valores D en la parte inferior derecha, color `blue`"
      ],
      "metadata": {
        "id": "rPGbTlNAD83G"
      }
    },
    {
      "cell_type": "code",
      "source": [
        "# =========== Código de alumno ===============\n",
        "\n",
        "\n",
        "# ============================================"
      ],
      "metadata": {
        "id": "MKIFgd7kGPEO"
      },
      "execution_count": null,
      "outputs": []
    },
    {
      "cell_type": "markdown",
      "source": [
        "**Ejercicio 2:**\n",
        "\n",
        "Vamos a crear una grilla de 2 gráficos: uno de línea y otro de puntos, siendo los ejes x los valores del índice `df.index.values`, mientras que los ejes y, los valores de las columnas a, b, c y d.  \n",
        "\n",
        "La figura debe tener:\n",
        "- 2 filas y 1 columa\n",
        "- Tamaño de figura de una altura de 8 y un ancho de 15.\n",
        "- Título de cada gráfico\n",
        "- Referencias\n",
        "- Grilla\n",
        "- La siguiente posición de gráficos:\n",
        "  - Los valores A Y B en la parte superior, en un gráfico de línea, color `green` y `red`, tipo de línea sólida y discontinua respectivamente.\n",
        "  - Los valores C Y D en la parte inferior, en un gráfico de puntos, color `magenta` y `blue`, marcador circular y triangulo invertido respectivamente."
      ],
      "metadata": {
        "id": "vgsgGX7acxVs"
      }
    },
    {
      "cell_type": "code",
      "source": [
        "# =========== Código de alumno ===============\n",
        "\n",
        "\n",
        "# ============================================"
      ],
      "metadata": {
        "id": "bBKtc4OFcXUt"
      },
      "execution_count": null,
      "outputs": []
    }
  ]
}